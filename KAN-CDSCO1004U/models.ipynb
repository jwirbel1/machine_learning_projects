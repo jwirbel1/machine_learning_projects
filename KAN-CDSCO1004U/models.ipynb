{
 "cells": [
  {
   "cell_type": "code",
   "execution_count": 1,
   "metadata": {},
   "outputs": [
    {
     "name": "stderr",
     "output_type": "stream",
     "text": [
      "2023-05-19 08:26:04.975790: I tensorflow/core/platform/cpu_feature_guard.cc:182] This TensorFlow binary is optimized to use available CPU instructions in performance-critical operations.\n",
      "To enable the following instructions: SSE4.1 SSE4.2 AVX AVX2 AVX_VNNI FMA, in other operations, rebuild TensorFlow with the appropriate compiler flags.\n"
     ]
    }
   ],
   "source": [
    "from model import *\n",
    "import tensorflow as tf\n",
    "import pandas as pd"
   ]
  },
  {
   "cell_type": "code",
   "execution_count": null,
   "metadata": {},
   "outputs": [],
   "source": [
    "fe = tf.keras.models.load_model('feature_extractor.h5')\n",
    "fe.summary()"
   ]
  },
  {
   "cell_type": "code",
   "execution_count": null,
   "metadata": {},
   "outputs": [],
   "source": [
    "fe = get_feature_extractor('models/aug_3.hdf5')\n",
    "fe.save('feature_extractor.h5')"
   ]
  },
  {
   "cell_type": "code",
   "execution_count": 2,
   "metadata": {},
   "outputs": [
    {
     "name": "stderr",
     "output_type": "stream",
     "text": [
      "2023-05-19 08:26:09.535726: I tensorflow/core/common_runtime/process_util.cc:146] Creating new thread pool with default inter op setting: 2. Tune using inter_op_parallelism_threads for best performance.\n",
      "WARNING:absl:`lr` is deprecated in Keras optimizer, please use `learning_rate` or use the legacy optimizer, e.g.,tf.keras.optimizers.legacy.Adam.\n"
     ]
    }
   ],
   "source": [
    "dual_model = dual_net((224, 224, 1), 15, 1)\n",
    "dual_model.load_weights('models/dual_model_4.hdf5')\n",
    "losses = {\n",
    "    \"age\": \"categorical_crossentropy\",\n",
    "    \"gender\": \"binary_crossentropy\"\n",
    "}\n",
    "loss_weights = {\"age\": 0.99, \"gender\": 0.01}\n",
    "metrics=['accuracy',\n",
    "         tf.keras.metrics.TopKCategoricalAccuracy(),\n",
    "         tf.keras.metrics.Precision(),\n",
    "         tf.keras.metrics.Recall()]\n",
    "dual_model.compile(optimizer=Adam(lr=0.0001),\n",
    "    loss=losses,\n",
    "    loss_weights=loss_weights,\n",
    "    metrics=metrics)\n",
    "\n",
    "dual_model.save('dual_model.h5')"
   ]
  },
  {
   "cell_type": "code",
   "execution_count": null,
   "metadata": {},
   "outputs": [],
   "source": [
    "# plot the model using keras plot_model\n",
    "tf.keras.utils.plot_model(model2, to_file='model2.png', show_shapes=True, show_layer_names=True)"
   ]
  },
  {
   "cell_type": "code",
   "execution_count": 3,
   "metadata": {},
   "outputs": [
    {
     "name": "stderr",
     "output_type": "stream",
     "text": [
      "WARNING:absl:`lr` is deprecated in Keras optimizer, please use `learning_rate` or use the legacy optimizer, e.g.,tf.keras.optimizers.legacy.Adam.\n"
     ]
    }
   ],
   "source": [
    "single_model = single_net((224, 224, 1), 30)\n",
    "single_model.load_weights('models/aug_3.hdf5')\n",
    "single_model.compile(optimizer=Adam(lr=0.0001), loss='categorical_crossentropy', metrics=metrics)\n",
    "single_model.save('single_model.h5')"
   ]
  },
  {
   "cell_type": "code",
   "execution_count": null,
   "metadata": {},
   "outputs": [],
   "source": [
    "# plot the model using keras plot_model\n",
    "tf.keras.utils.plot_model(model, to_file='model.png', show_shapes=True, show_layer_names=True)"
   ]
  },
  {
   "cell_type": "code",
   "execution_count": null,
   "metadata": {},
   "outputs": [],
   "source": [
    "input = Input(shape=(224, 224, 1))\n",
    "\n",
    "# base model\n",
    "conv1 = Conv2D(64, kernel_size=(3, 3), activation='relu', padding='same', kernel_initializer=\"he_normal\", bias_initializer=\"zeros\")(input)\n",
    "conv1 = Conv2D(64, kernel_size=(3, 3), activation='relu', padding='same', kernel_initializer=\"he_normal\", bias_initializer=\"zeros\")(conv1)\n",
    "mpool1 = MaxPooling2D(pool_size = (2,2), strides = (2,2))(conv1)\n",
    "\n",
    "conv2 = Conv2D(128, kernel_size=(3, 3), activation='relu', padding='same', kernel_initializer=\"he_normal\", bias_initializer=\"zeros\")(mpool1)\n",
    "conv2 = Conv2D(128, kernel_size=(3, 3), activation='relu', padding='same', kernel_initializer=\"he_normal\", bias_initializer=\"zeros\")(conv2)\n",
    "mpool2 = MaxPooling2D(pool_size = (2,2), strides = (2,2))(conv2)\n",
    "\n",
    "conv3 = Conv2D(256, kernel_size=(3, 3), activation='relu', padding='same', kernel_initializer=\"he_normal\", bias_initializer=\"zeros\")(mpool2)\n",
    "conv3 = Conv2D(256, kernel_size=(3, 3), activation='relu', padding='same', kernel_initializer=\"he_normal\", bias_initializer=\"zeros\")(conv3)\n",
    "mpool3 = MaxPooling2D(pool_size = (2,2), strides = (2,2))(conv3)\n",
    "\n",
    "conv4 = Conv2D(512, 3, activation='relu', padding='same', kernel_initializer=\"he_normal\", bias_initializer=\"zeros\")(mpool3)\n",
    "conv4 = Conv2D(512, 3, activation='relu', padding='same', kernel_initializer=\"he_normal\", bias_initializer=\"zeros\")(conv4)\n",
    "mpool4 = MaxPooling2D(pool_size = (2,2), strides = (2,2))(conv4)\n",
    "\n",
    "model = Model(inputs=input, outputs=mpool4)"
   ]
  },
  {
   "cell_type": "code",
   "execution_count": null,
   "metadata": {},
   "outputs": [],
   "source": [
    "model.summary(line_length=100)"
   ]
  },
  {
   "cell_type": "code",
   "execution_count": null,
   "metadata": {},
   "outputs": [],
   "source": [
    "table=pd.DataFrame(columns=[\"Name\",\"Type\",\"Shape\"])\n",
    "for layer in model.layers:\n",
    "    table = table.append({\"Name\":layer.name, \"Type\": layer.__class__.__name__,\"Shape\":layer.output_shape}, ignore_index=True)"
   ]
  }
 ],
 "metadata": {
  "kernelspec": {
   "display_name": "tf",
   "language": "python",
   "name": "python3"
  },
  "language_info": {
   "codemirror_mode": {
    "name": "ipython",
    "version": 3
   },
   "file_extension": ".py",
   "mimetype": "text/x-python",
   "name": "python",
   "nbconvert_exporter": "python",
   "pygments_lexer": "ipython3",
   "version": "3.11.3"
  },
  "orig_nbformat": 4
 },
 "nbformat": 4,
 "nbformat_minor": 2
}
