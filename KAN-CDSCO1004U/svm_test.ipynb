{
 "cells": [
  {
   "cell_type": "code",
   "execution_count": null,
   "metadata": {},
   "outputs": [],
   "source": [
    "import numpy as np\n",
    "import pandas as pd\n",
    "import matplotlib.pyplot as plt\n",
    "from sklearn import svm\n",
    "from sklearn.model_selection import train_test_split\n",
    "from tqdm import tqdm\n",
    "\n",
    "import tensorflow as tf\n",
    "from model import *"
   ]
  },
  {
   "cell_type": "code",
   "execution_count": null,
   "metadata": {},
   "outputs": [],
   "source": [
    "# set cpu as the default device\n",
    "tf.config.set_visible_devices([], 'GPU')"
   ]
  },
  {
   "cell_type": "code",
   "execution_count": null,
   "metadata": {},
   "outputs": [],
   "source": [
    "from tensorflow.keras.layers import Dropout, Flatten, Conv2D, Input, BatchNormalization, Dense, MaxPooling2D, Activation, AveragePooling2D\n",
    "   \n",
    "input = Input(shape=(224,224,1))\n",
    "\n",
    "# base model\n",
    "conv1 = Conv2D(64, kernel_size=(3, 3), activation='relu', padding='same', kernel_initializer=\"he_normal\", bias_initializer=\"zeros\")(input)\n",
    "conv1 = Conv2D(64, kernel_size=(3, 3), activation='relu', padding='same', kernel_initializer=\"he_normal\", bias_initializer=\"zeros\")(conv1)\n",
    "conv1 = Dropout(0.1)(conv1)\n",
    "mpool1 = MaxPooling2D()(conv1)\n",
    "\n",
    "conv2 = Conv2D(128, kernel_size=(3, 3), activation='relu', padding='same', kernel_initializer=\"he_normal\", bias_initializer=\"zeros\")(mpool1)\n",
    "conv2 = Conv2D(128, kernel_size=(3, 3), activation='relu', padding='same', kernel_initializer=\"he_normal\", bias_initializer=\"zeros\")(conv2)\n",
    "conv2 = Dropout(0.2)(conv2)\n",
    "mpool2 = MaxPooling2D()(conv2)\n",
    "\n",
    "conv3 = Conv2D(256, kernel_size=(3, 3), activation='relu', padding='same', kernel_initializer=\"he_normal\", bias_initializer=\"zeros\")(mpool2)\n",
    "conv3 = Conv2D(256, kernel_size=(3, 3), activation='relu', padding='same', kernel_initializer=\"he_normal\", bias_initializer=\"zeros\")(conv3)\n",
    "conv3 = Dropout(0.3)(conv3)\n",
    "mpool3 = MaxPooling2D()(conv3)\n",
    "\n",
    "conv4 = Conv2D(512, 3, activation='relu', padding='same', kernel_initializer=\"he_normal\", bias_initializer=\"zeros\")(mpool3)\n",
    "conv4 = Conv2D(512, 3, activation='relu', padding='same', kernel_initializer=\"he_normal\", bias_initializer=\"zeros\")(conv4)\n",
    "conv4 = Dropout(0.4)(conv4)\n",
    "\n",
    "out = tf.keras.layers.GlobalAveragePooling2D()(conv4)\n",
    "\n",
    "\n",
    "model = tf.keras.Model(inputs=input, outputs=out)\n",
    "model.load_weights(\"aug.hdf5\", by_name=True)\n",
    "\n",
    "model.compile(optimizer=tf.keras.optimizers.Adam(learning_rate=0.0001), loss='categorical_crossentropy', metrics=['accuracy'])\n",
    "# save the model tp a h5 file\n",
    "model.save(\"aug.h5\")"
   ]
  },
  {
   "cell_type": "code",
   "execution_count": null,
   "metadata": {},
   "outputs": [],
   "source": [
    "# load the model from the saved file\n",
    "model = tf.keras.models.load_model('aug.h5')"
   ]
  },
  {
   "cell_type": "code",
   "execution_count": null,
   "metadata": {},
   "outputs": [],
   "source": [
    "data_dir = '/dmc/ml_storage/machine_learning/Final_ML_CBS/data/cohorts_5_aug/'\n",
    "size = 224\n",
    "image_generator = tf.keras.preprocessing.image.ImageDataGenerator()\n",
    "\n",
    "datagen = image_generator.flow_from_directory(\n",
    "        data_dir,\n",
    "        target_size=(size, size),\n",
    "        batch_size=1,\n",
    "        color_mode='grayscale',\n",
    "        class_mode='categorical',\n",
    "        shuffle=True)\n",
    "\n",
    "X = []\n",
    "y = []\n",
    "for image_batch, label_batch in tqdm(datagen):\n",
    "    image = image_batch.flatten()\n",
    "    image = image.reshape(size, size, 1)\n",
    "    X.append(image)\n",
    "    label = label_batch.flatten()\n",
    "    y.append(label)\n",
    "    if len(X) == len(datagen):\n",
    "        break\n",
    "\n",
    "X = np.array(X)\n",
    "y = np.array(y)"
   ]
  },
  {
   "cell_type": "code",
   "execution_count": null,
   "metadata": {},
   "outputs": [],
   "source": [
    "# predict the labels\n",
    "X = model.predict(X)"
   ]
  },
  {
   "cell_type": "code",
   "execution_count": null,
   "metadata": {},
   "outputs": [],
   "source": [
    "X_train, X_val, y_train, y_val = train_test_split(X, y, test_size=0.2, shuffle=True)"
   ]
  },
  {
   "cell_type": "code",
   "execution_count": null,
   "metadata": {},
   "outputs": [],
   "source": [
    "svm_model = svm.SVC(kernel='rbf', C=1, gamma=0.1)\n",
    "svm_model.fit(X_train, y_train)"
   ]
  },
  {
   "cell_type": "code",
   "execution_count": null,
   "metadata": {},
   "outputs": [],
   "source": [
    "# create a classification report\n",
    "from sklearn.metrics import classification_report\n",
    "y_pred = svm_model.predict(X_val)\n",
    "print(classification_report(y_val, y_pred))"
   ]
  }
 ],
 "metadata": {
  "kernelspec": {
   "display_name": "Python 3 (ipykernel)",
   "language": "python",
   "name": "python3"
  },
  "language_info": {
   "codemirror_mode": {
    "name": "ipython",
    "version": 3
   },
   "file_extension": ".py",
   "mimetype": "text/x-python",
   "name": "python",
   "nbconvert_exporter": "python",
   "pygments_lexer": "ipython3",
   "version": "3.11.3"
  }
 },
 "nbformat": 4,
 "nbformat_minor": 2
}
